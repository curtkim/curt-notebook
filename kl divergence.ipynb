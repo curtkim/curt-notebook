{
 "cells": [
  {
   "cell_type": "markdown",
   "metadata": {},
   "source": [
    "http://blog.naver.com/PostView.nhn?blogId=atelierjpro&logNo=220981354861"
   ]
  },
  {
   "cell_type": "code",
   "execution_count": 1,
   "metadata": {
    "collapsed": true
   },
   "outputs": [],
   "source": [
    "import numpy as np\n",
    "import scipy.stats as stats"
   ]
  },
  {
   "cell_type": "code",
   "execution_count": 15,
   "metadata": {},
   "outputs": [
    {
     "name": "stdout",
     "output_type": "stream",
     "text": [
      "-0.0100847151768\n",
      "0.0100847151768\n"
     ]
    }
   ],
   "source": [
    "def KLD(pk, qk):\n",
    "    n_pk = pk / pk.sum()\n",
    "    n_qk = qk / qk.sum()\n",
    "    S = sum(n_pk * np.log(n_qk/n_pk))\n",
    "    print(S)\n",
    "    \n",
    "pk = np.random.normal(0.1, 0.01, 100000)\n",
    "qk = np.random.normal(0.1, 0.01, 100000)\n",
    "\n",
    "KLD(pk, qk)\n",
    "print( stats.entropy(pk, qk))"
   ]
  },
  {
   "cell_type": "code",
   "execution_count": 18,
   "metadata": {},
   "outputs": [
    {
     "name": "stdout",
     "output_type": "stream",
     "text": [
      "-9.97390479049e-05\n",
      "9.97390479049e-05\n"
     ]
    }
   ],
   "source": [
    "pk = np.random.normal(0.1, 0.001, 100000)\n",
    "qk = np.random.normal(0.1, 0.001, 100000)\n",
    "KLD(pk, qk)\n",
    "print( stats.entropy(pk, qk))"
   ]
  },
  {
   "cell_type": "code",
   "execution_count": 21,
   "metadata": {
    "collapsed": true
   },
   "outputs": [],
   "source": [
    "import math"
   ]
  },
  {
   "cell_type": "code",
   "execution_count": 23,
   "metadata": {},
   "outputs": [
    {
     "data": {
      "text/plain": [
       "-0.3250829733914482"
      ]
     },
     "execution_count": 23,
     "metadata": {},
     "output_type": "execute_result"
    }
   ],
   "source": [
    "0.1 * math.log(0.1) + 0.9*math.log(0.9)"
   ]
  },
  {
   "cell_type": "code",
   "execution_count": null,
   "metadata": {
    "collapsed": true
   },
   "outputs": [],
   "source": []
  }
 ],
 "metadata": {
  "kernelspec": {
   "display_name": "Python 3",
   "language": "python",
   "name": "python3"
  },
  "language_info": {
   "codemirror_mode": {
    "name": "ipython",
    "version": 3
   },
   "file_extension": ".py",
   "mimetype": "text/x-python",
   "name": "python",
   "nbconvert_exporter": "python",
   "pygments_lexer": "ipython3",
   "version": "3.5.2"
  }
 },
 "nbformat": 4,
 "nbformat_minor": 2
}
