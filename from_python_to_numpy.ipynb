{
 "cells": [
  {
   "cell_type": "code",
   "execution_count": 1,
   "metadata": {
    "collapsed": true
   },
   "outputs": [],
   "source": [
    "import numpy as np"
   ]
  },
  {
   "cell_type": "code",
   "execution_count": 6,
   "metadata": {
    "collapsed": true
   },
   "outputs": [],
   "source": [
    "Z = np.random.randint(0, 2, (6,6))\n",
    "M = np.zeros(Z.shape)"
   ]
  },
  {
   "cell_type": "code",
   "execution_count": 7,
   "metadata": {},
   "outputs": [
    {
     "data": {
      "text/plain": [
       "array([[1, 0, 0, 0, 1, 1],\n",
       "       [1, 1, 1, 1, 0, 0],\n",
       "       [1, 1, 1, 1, 0, 1],\n",
       "       [0, 0, 1, 1, 1, 1],\n",
       "       [1, 0, 0, 1, 1, 1],\n",
       "       [0, 0, 1, 0, 0, 1]])"
      ]
     },
     "execution_count": 7,
     "metadata": {},
     "output_type": "execute_result"
    }
   ],
   "source": [
    "Z"
   ]
  },
  {
   "cell_type": "code",
   "execution_count": 8,
   "metadata": {
    "collapsed": true
   },
   "outputs": [],
   "source": [
    "N = (Z[0:-2, 0:-2] + Z[0:-2, 1:-1] + Z[0:-2, 2:] +\n",
    "     Z[1:-1, 0:-2]                 + Z[1:-1, 2:] +\n",
    "     Z[2:  , 0:-2] + Z[2:  , 1:-1] + Z[2:  , 2:])"
   ]
  },
  {
   "cell_type": "code",
   "execution_count": 12,
   "metadata": {},
   "outputs": [
    {
     "data": {
      "text/plain": [
       "array([[6, 5, 4, 5],\n",
       "       [6, 7, 6, 6],\n",
       "       [5, 5, 6, 7],\n",
       "       [3, 4, 5, 6]])"
      ]
     },
     "execution_count": 12,
     "metadata": {},
     "output_type": "execute_result"
    }
   ],
   "source": [
    "N"
   ]
  },
  {
   "cell_type": "code",
   "execution_count": 13,
   "metadata": {},
   "outputs": [
    {
     "data": {
      "text/plain": [
       "array([[False, False,  True, False],\n",
       "       [False, False, False, False],\n",
       "       [False, False, False, False],\n",
       "       [False,  True, False, False]], dtype=bool)"
      ]
     },
     "execution_count": 13,
     "metadata": {},
     "output_type": "execute_result"
    }
   ],
   "source": [
    "N == 4"
   ]
  },
  {
   "cell_type": "code",
   "execution_count": 15,
   "metadata": {},
   "outputs": [],
   "source": [
    "Z= np.arange(50)"
   ]
  },
  {
   "cell_type": "code",
   "execution_count": 17,
   "metadata": {},
   "outputs": [
    {
     "data": {
      "text/plain": [
       "array([49, 48, 47, 46, 45, 44, 43, 42, 41, 40, 39, 38, 37, 36, 35, 34, 33,\n",
       "       32, 31, 30, 29, 28, 27, 26, 25, 24, 23, 22, 21, 20, 19, 18, 17, 16,\n",
       "       15, 14, 13, 12, 11, 10,  9,  8,  7,  6,  5,  4,  3,  2,  1,  0])"
      ]
     },
     "execution_count": 17,
     "metadata": {},
     "output_type": "execute_result"
    }
   ],
   "source": [
    "Z[::-1]"
   ]
  },
  {
   "cell_type": "code",
   "execution_count": 18,
   "metadata": {},
   "outputs": [
    {
     "data": {
      "text/plain": [
       "array([[0, 1, 2],\n",
       "       [3, 4, 5],\n",
       "       [6, 7, 8]])"
      ]
     },
     "execution_count": 18,
     "metadata": {},
     "output_type": "execute_result"
    }
   ],
   "source": [
    "np.arange(9).reshape(3,3)"
   ]
  },
  {
   "cell_type": "code",
   "execution_count": 19,
   "metadata": {},
   "outputs": [
    {
     "data": {
      "text/plain": [
       "array([ True,  True, False, False,  True, False], dtype=bool)"
      ]
     },
     "execution_count": 19,
     "metadata": {},
     "output_type": "execute_result"
    }
   ],
   "source": [
    "np.array([1,2,0,0,4,0]) > 0"
   ]
  },
  {
   "cell_type": "code",
   "execution_count": 20,
   "metadata": {},
   "outputs": [
    {
     "data": {
      "text/plain": [
       "(array([0, 1, 4]),)"
      ]
     },
     "execution_count": 20,
     "metadata": {},
     "output_type": "execute_result"
    }
   ],
   "source": [
    "np.nonzero([1,2,0,0,4,0])"
   ]
  },
  {
   "cell_type": "code",
   "execution_count": 21,
   "metadata": {},
   "outputs": [
    {
     "data": {
      "text/plain": [
       "array([[ 1.,  0.,  0.],\n",
       "       [ 0.,  1.,  0.],\n",
       "       [ 0.,  0.,  1.]])"
      ]
     },
     "execution_count": 21,
     "metadata": {},
     "output_type": "execute_result"
    }
   ],
   "source": [
    "np.eye(3)"
   ]
  },
  {
   "cell_type": "code",
   "execution_count": 23,
   "metadata": {},
   "outputs": [
    {
     "data": {
      "text/plain": [
       "array([[[ 0.246632  ,  0.28947303,  0.41399389],\n",
       "        [ 0.29339155,  0.82492919,  0.13339673],\n",
       "        [ 0.92639452,  0.7935954 ,  0.97205871]],\n",
       "\n",
       "       [[ 0.36817777,  0.05625315,  0.41449741],\n",
       "        [ 0.14283159,  0.49497972,  0.39665213],\n",
       "        [ 0.05587973,  0.5561603 ,  0.42038513]],\n",
       "\n",
       "       [[ 0.82339646,  0.7966778 ,  0.74048087],\n",
       "        [ 0.83363317,  0.28253091,  0.15715914],\n",
       "        [ 0.53795934,  0.10701014,  0.71882718]]])"
      ]
     },
     "execution_count": 23,
     "metadata": {},
     "output_type": "execute_result"
    }
   ],
   "source": [
    "np.random.random((3,3,3))"
   ]
  },
  {
   "cell_type": "code",
   "execution_count": 26,
   "metadata": {},
   "outputs": [
    {
     "name": "stdout",
     "output_type": "stream",
     "text": [
      "0.0320805532353\n",
      "0.997497779061\n"
     ]
    }
   ],
   "source": [
    "z = np.random.random((10,10))\n",
    "print(z.min())\n",
    "print(z.max())"
   ]
  },
  {
   "cell_type": "code",
   "execution_count": 27,
   "metadata": {},
   "outputs": [
    {
     "data": {
      "text/plain": [
       "0.4408417109179425"
      ]
     },
     "execution_count": 27,
     "metadata": {},
     "output_type": "execute_result"
    }
   ],
   "source": [
    "np.random.random(30).mean()"
   ]
  },
  {
   "cell_type": "code",
   "execution_count": 34,
   "metadata": {},
   "outputs": [
    {
     "data": {
      "text/plain": [
       "array([[ 1.,  1.,  1.],\n",
       "       [ 1.,  0.,  1.],\n",
       "       [ 1.,  1.,  1.]])"
      ]
     },
     "execution_count": 34,
     "metadata": {},
     "output_type": "execute_result"
    }
   ],
   "source": [
    "z = np.ones((3,3))\n",
    "z[1:-1,1:-1] = 0\n",
    "z"
   ]
  },
  {
   "cell_type": "code",
   "execution_count": 35,
   "metadata": {},
   "outputs": [
    {
     "data": {
      "text/plain": [
       "array([[0, 0, 0, 0, 0, 0, 0, 0],\n",
       "       [1, 0, 1, 0, 1, 0, 1, 0],\n",
       "       [0, 0, 0, 0, 0, 0, 0, 0],\n",
       "       [1, 0, 1, 0, 1, 0, 1, 0],\n",
       "       [0, 0, 0, 0, 0, 0, 0, 0],\n",
       "       [1, 0, 1, 0, 1, 0, 1, 0],\n",
       "       [0, 0, 0, 0, 0, 0, 0, 0],\n",
       "       [1, 0, 1, 0, 1, 0, 1, 0]])"
      ]
     },
     "execution_count": 35,
     "metadata": {},
     "output_type": "execute_result"
    }
   ],
   "source": [
    "Z = np.zeros((8,8),dtype=int)\n",
    "Z[1::2,::2] = 1\n",
    "Z"
   ]
  },
  {
   "cell_type": "code",
   "execution_count": 36,
   "metadata": {
    "collapsed": true
   },
   "outputs": [],
   "source": [
    "Z = np.random.randint(0, 10, (10))"
   ]
  },
  {
   "cell_type": "code",
   "execution_count": 38,
   "metadata": {},
   "outputs": [],
   "source": [
    "Z[(Z > 3) & (Z<=8)] *= -1"
   ]
  },
  {
   "cell_type": "code",
   "execution_count": 39,
   "metadata": {},
   "outputs": [
    {
     "data": {
      "text/plain": [
       "array([-6,  0,  0,  0, -5, -6,  2,  9, -4,  9])"
      ]
     },
     "execution_count": 39,
     "metadata": {},
     "output_type": "execute_result"
    }
   ],
   "source": [
    "Z"
   ]
  },
  {
   "cell_type": "code",
   "execution_count": 40,
   "metadata": {},
   "outputs": [
    {
     "data": {
      "text/plain": [
       "array([ 3.,  9.,  0.,  4.,  2.,  9.,  7.,  7.,  0.,  3.])"
      ]
     },
     "execution_count": 40,
     "metadata": {},
     "output_type": "execute_result"
    }
   ],
   "source": [
    "Z = np.random.uniform(0,10,10)\n",
    "np.floor(Z)"
   ]
  },
  {
   "cell_type": "code",
   "execution_count": 48,
   "metadata": {},
   "outputs": [],
   "source": [
    "Z = np.random.random((10,2))\n",
    "X,Y = Z[:,0],Z[:,1]\n",
    "L = np.sqrt(X**2+Y**2)\n",
    "A = np.arctan(X,Y)"
   ]
  },
  {
   "cell_type": "code",
   "execution_count": 52,
   "metadata": {},
   "outputs": [
    {
     "data": {
      "text/plain": [
       "array([ 0.25701699,  0.07364662,  0.14313521,  0.28011774,  0.91123979,\n",
       "        0.00483263,  0.        ,  0.95550923,  0.45761049,  0.84124848])"
      ]
     },
     "execution_count": 52,
     "metadata": {},
     "output_type": "execute_result"
    }
   ],
   "source": [
    "Z = np.random.random(10)\n",
    "Z[Z.argmax()] = 0\n",
    "Z"
   ]
  },
  {
   "cell_type": "code",
   "execution_count": 60,
   "metadata": {},
   "outputs": [
    {
     "data": {
      "text/plain": [
       "15"
      ]
     },
     "execution_count": 60,
     "metadata": {},
     "output_type": "execute_result"
    }
   ],
   "source": [
    "Z = np.arange(100)\n",
    "v = np.random.uniform(0,100)\n",
    "index = (np.abs(Z-v)).argmin()\n",
    "index"
   ]
  },
  {
   "cell_type": "code",
   "execution_count": 61,
   "metadata": {},
   "outputs": [
    {
     "data": {
      "text/plain": [
       "array([(( 0.,  0.), ( 0.,  0.,  0.)), (( 0.,  0.), ( 0.,  0.,  0.)),\n",
       "       (( 0.,  0.), ( 0.,  0.,  0.)), (( 0.,  0.), ( 0.,  0.,  0.)),\n",
       "       (( 0.,  0.), ( 0.,  0.,  0.)), (( 0.,  0.), ( 0.,  0.,  0.)),\n",
       "       (( 0.,  0.), ( 0.,  0.,  0.)), (( 0.,  0.), ( 0.,  0.,  0.)),\n",
       "       (( 0.,  0.), ( 0.,  0.,  0.)), (( 0.,  0.), ( 0.,  0.,  0.))], \n",
       "      dtype=[('position', [('x', '<f8'), ('y', '<f8')]), ('color', [('r', '<f8'), ('g', '<f8'), ('b', '<f8')])])"
      ]
     },
     "execution_count": 61,
     "metadata": {},
     "output_type": "execute_result"
    }
   ],
   "source": [
    "np.zeros(10, [ ('position', [ ('x', float, 1),\n",
    "                              ('y', float, 1)]),\n",
    "               ('color',    [ ('r', float, 1),\n",
    "                              ('g', float, 1),\n",
    "                              ('b', float, 1)])])"
   ]
  },
  {
   "cell_type": "code",
   "execution_count": 67,
   "metadata": {},
   "outputs": [
    {
     "name": "stdout",
     "output_type": "stream",
     "text": [
      "(10, 10)\n"
     ]
    },
    {
     "data": {
      "text/plain": [
       "array([[ 0.36787944,  0.44822088,  0.51979489,  0.57375342,  0.60279818,\n",
       "         0.60279818,  0.57375342,  0.51979489,  0.44822088,  0.36787944],\n",
       "       [ 0.44822088,  0.54610814,  0.63331324,  0.69905581,  0.73444367,\n",
       "         0.73444367,  0.69905581,  0.63331324,  0.54610814,  0.44822088],\n",
       "       [ 0.51979489,  0.63331324,  0.73444367,  0.81068432,  0.85172308,\n",
       "         0.85172308,  0.81068432,  0.73444367,  0.63331324,  0.51979489],\n",
       "       [ 0.57375342,  0.69905581,  0.81068432,  0.89483932,  0.9401382 ,\n",
       "         0.9401382 ,  0.89483932,  0.81068432,  0.69905581,  0.57375342],\n",
       "       [ 0.60279818,  0.73444367,  0.85172308,  0.9401382 ,  0.98773022,\n",
       "         0.98773022,  0.9401382 ,  0.85172308,  0.73444367,  0.60279818],\n",
       "       [ 0.60279818,  0.73444367,  0.85172308,  0.9401382 ,  0.98773022,\n",
       "         0.98773022,  0.9401382 ,  0.85172308,  0.73444367,  0.60279818],\n",
       "       [ 0.57375342,  0.69905581,  0.81068432,  0.89483932,  0.9401382 ,\n",
       "         0.9401382 ,  0.89483932,  0.81068432,  0.69905581,  0.57375342],\n",
       "       [ 0.51979489,  0.63331324,  0.73444367,  0.81068432,  0.85172308,\n",
       "         0.85172308,  0.81068432,  0.73444367,  0.63331324,  0.51979489],\n",
       "       [ 0.44822088,  0.54610814,  0.63331324,  0.69905581,  0.73444367,\n",
       "         0.73444367,  0.69905581,  0.63331324,  0.54610814,  0.44822088],\n",
       "       [ 0.36787944,  0.44822088,  0.51979489,  0.57375342,  0.60279818,\n",
       "         0.60279818,  0.57375342,  0.51979489,  0.44822088,  0.36787944]])"
      ]
     },
     "execution_count": 67,
     "metadata": {},
     "output_type": "execute_result"
    }
   ],
   "source": [
    "X, Y = np.meshgrid(np.linspace(-1,1,10), np.linspace(-1,1,10))\n",
    "print(X.shape)\n",
    "D = np.sqrt(X**2+Y**2)\n",
    "sigma, mu = 1.0, 0.0\n",
    "np.exp(-( (D-mu)**2 / ( 2.0 * sigma**2 ) ) )"
   ]
  },
  {
   "cell_type": "code",
   "execution_count": 83,
   "metadata": {},
   "outputs": [
    {
     "data": {
      "text/plain": [
       "array([[-4.5, -3.5, -2.5, -1.5, -0.5,  0.5,  1.5,  2.5,  3.5,  4.5],\n",
       "       [-4.5, -3.5, -2.5, -1.5, -0.5,  0.5,  1.5,  2.5,  3.5,  4.5],\n",
       "       [-4.5, -3.5, -2.5, -1.5, -0.5,  0.5,  1.5,  2.5,  3.5,  4.5],\n",
       "       [-4.5, -3.5, -2.5, -1.5, -0.5,  0.5,  1.5,  2.5,  3.5,  4.5],\n",
       "       [-4.5, -3.5, -2.5, -1.5, -0.5,  0.5,  1.5,  2.5,  3.5,  4.5]])"
      ]
     },
     "execution_count": 83,
     "metadata": {},
     "output_type": "execute_result"
    }
   ],
   "source": [
    "X = np.arange(50).reshape(5, 10)\n",
    "X-X.mean(axis=1, keepdims=True)"
   ]
  },
  {
   "cell_type": "code",
   "execution_count": 84,
   "metadata": {},
   "outputs": [
    {
     "name": "stdout",
     "output_type": "stream",
     "text": [
      "[[6 3 4]\n",
      " [9 7 1]\n",
      " [0 2 3]]\n",
      "[[0 2 3]\n",
      " [6 3 4]\n",
      " [9 7 1]]\n"
     ]
    }
   ],
   "source": [
    "Z = np.random.randint(0,10,(3,3))\n",
    "print(Z)\n",
    "print(Z[Z[:,1].argsort()])"
   ]
  },
  {
   "cell_type": "code",
   "execution_count": 95,
   "metadata": {},
   "outputs": [
    {
     "name": "stdout",
     "output_type": "stream",
     "text": [
      "[[ 1.  0.  0.]\n",
      " [ 0.  1.  0.]\n",
      " [ 0.  0.  1.]]\n"
     ]
    },
    {
     "data": {
      "text/plain": [
       "True"
      ]
     },
     "execution_count": 95,
     "metadata": {},
     "output_type": "execute_result"
    }
   ],
   "source": [
    "#Z = np.random.randint(0,3,(3,10))\n",
    "#Z= np.zeros((3, 10))\n",
    "Z = np.eye(3)\n",
    "print(Z)\n",
    "Z.any(axis=0).any()"
   ]
  },
  {
   "cell_type": "code",
   "execution_count": 99,
   "metadata": {},
   "outputs": [
    {
     "name": "stdout",
     "output_type": "stream",
     "text": [
      "[ 0.30175122  0.32114889  0.93973939  0.81600954  0.8279667   0.24223682\n",
      "  0.07310813  0.08321152  0.50250778  0.57981099]\n"
     ]
    },
    {
     "data": {
      "text/plain": [
       "0.50250777569543315"
      ]
     },
     "execution_count": 99,
     "metadata": {},
     "output_type": "execute_result"
    }
   ],
   "source": [
    "Z = np.random.uniform(0,1,10)\n",
    "z = 0.5\n",
    "print(Z)\n",
    "Z[np.abs(Z-z).argmin()]"
   ]
  },
  {
   "cell_type": "code",
   "execution_count": 105,
   "metadata": {},
   "outputs": [
    {
     "data": {
      "text/plain": [
       "4"
      ]
     },
     "execution_count": 105,
     "metadata": {},
     "output_type": "execute_result"
    }
   ],
   "source": [
    "w,h = 16,16\n",
    "I = np.random.randint(0,2,(h,w,3)).astype(np.ubyte)\n",
    "F = I[...,0]*256*256 + I[...,1]*256 +I[...,2]\n",
    "len(np.unique(F))"
   ]
  },
  {
   "cell_type": "code",
   "execution_count": 109,
   "metadata": {},
   "outputs": [
    {
     "name": "stdout",
     "output_type": "stream",
     "text": [
      "[[[ 0  1  2  3]\n",
      "  [ 4  5  6  7]\n",
      "  [ 8  9 10 11]\n",
      "  [12 13 14 15]]\n",
      "\n",
      " [[16 17 18 19]\n",
      "  [20 21 22 23]\n",
      "  [24 25 26 27]\n",
      "  [28 29 30 31]]\n",
      "\n",
      " [[32 33 34 35]\n",
      "  [36 37 38 39]\n",
      "  [40 41 42 43]\n",
      "  [44 45 46 47]]\n",
      "\n",
      " [[48 49 50 51]\n",
      "  [52 53 54 55]\n",
      "  [56 57 58 59]\n",
      "  [60 61 62 63]]]\n"
     ]
    },
    {
     "data": {
      "text/plain": [
       "array([[ 96, 100, 104, 108],\n",
       "       [112, 116, 120, 124],\n",
       "       [128, 132, 136, 140],\n",
       "       [144, 148, 152, 156]])"
      ]
     },
     "execution_count": 109,
     "metadata": {},
     "output_type": "execute_result"
    }
   ],
   "source": [
    "Z = np.arange(4*4*4).reshape(4,4,4)\n",
    "print(Z)\n",
    "Z.sum(axis=0)"
   ]
  },
  {
   "cell_type": "code",
   "execution_count": null,
   "metadata": {
    "collapsed": true
   },
   "outputs": [],
   "source": []
  }
 ],
 "metadata": {
  "kernelspec": {
   "display_name": "Python 3",
   "language": "python",
   "name": "python3"
  },
  "language_info": {
   "codemirror_mode": {
    "name": "ipython",
    "version": 3
   },
   "file_extension": ".py",
   "mimetype": "text/x-python",
   "name": "python",
   "nbconvert_exporter": "python",
   "pygments_lexer": "ipython3",
   "version": "3.5.2"
  }
 },
 "nbformat": 4,
 "nbformat_minor": 2
}
