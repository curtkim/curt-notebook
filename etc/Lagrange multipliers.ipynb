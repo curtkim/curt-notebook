{
 "cells": [
  {
   "cell_type": "markdown",
   "metadata": {},
   "source": [
    "- http://kitchingroup.cheme.cmu.edu/blog/2013/02/03/Using-Lagrange-multipliers-in-optimization/\n",
    "- http://untitledtblog.tistory.com/96"
   ]
  },
  {
   "cell_type": "code",
   "execution_count": 1,
   "metadata": {},
   "outputs": [],
   "source": [
    "import numpy as np\n",
    "\n",
    "def func(X):\n",
    "    x = X[0]\n",
    "    y = X[1]\n",
    "    L = X[2] # this is the multiplier. lambda is a reserved keyword in python\n",
    "    return x + y + L * (x**2 + y**2 - 1)"
   ]
  },
  {
   "cell_type": "code",
   "execution_count": 2,
   "metadata": {},
   "outputs": [],
   "source": [
    "def dfunc(X):\n",
    "    dLambda = np.zeros(len(X))\n",
    "    h = 1e-3 # this is the step size used in the finite difference.\n",
    "    for i in range(len(X)):\n",
    "        dX = np.zeros(len(X))\n",
    "        dX[i] = h\n",
    "        dLambda[i] = (func(X+dX)-func(X-dX))/(2*h);\n",
    "    return dLambda"
   ]
  },
  {
   "cell_type": "code",
   "execution_count": 4,
   "metadata": {},
   "outputs": [
    {
     "name": "stdout",
     "output_type": "stream",
     "text": [
      "[ 0.70710678  0.70710678 -0.70710678] 1.41421356237\n",
      "[-0.70710678 -0.70710678  0.70710678] -1.41421356237\n"
     ]
    }
   ],
   "source": [
    "from scipy.optimize import fsolve\n",
    "\n",
    "# this is the max\n",
    "X1 = fsolve(dfunc, [1, 1, 0])\n",
    "print(X1, func(X1))\n",
    "\n",
    "# this is the min\n",
    "X2 = fsolve(dfunc, [-1, -1, 0])\n",
    "print(X2, func(X2))"
   ]
  },
  {
   "cell_type": "code",
   "execution_count": null,
   "metadata": {},
   "outputs": [],
   "source": []
  }
 ],
 "metadata": {
  "kernelspec": {
   "display_name": "Python 3",
   "language": "python",
   "name": "python3"
  },
  "language_info": {
   "codemirror_mode": {
    "name": "ipython",
    "version": 3
   },
   "file_extension": ".py",
   "mimetype": "text/x-python",
   "name": "python",
   "nbconvert_exporter": "python",
   "pygments_lexer": "ipython3",
   "version": "3.6.3"
  }
 },
 "nbformat": 4,
 "nbformat_minor": 2
}
