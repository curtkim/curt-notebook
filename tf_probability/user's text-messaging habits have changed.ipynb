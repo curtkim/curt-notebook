{
 "cells": [
  {
   "cell_type": "code",
   "execution_count": 1,
   "metadata": {},
   "outputs": [],
   "source": [
    "from __future__ import absolute_import\n",
    "from __future__ import division\n",
    "from __future__ import print_function\n",
    "\n",
    "import numpy as np\n",
    "import tensorflow as tf\n",
    "import tensorflow_probability as tfp\n",
    "\n",
    "%matplotlib inline\n",
    "from IPython.core.pylabtools import figsize\n",
    "import numpy as np\n",
    "from matplotlib import pyplot as plt\n",
    "figsize(11, 9)"
   ]
  },
  {
   "cell_type": "code",
   "execution_count": 2,
   "metadata": {},
   "outputs": [],
   "source": [
    "count_data = np.array([\n",
    "    13,  24,   8,  24,   7,  35,  14,  11,  15,  11,  22,  22,  11,  57,  11,\n",
    "    19,  29,   6,  19,  12,  22,  12,  18,  72,  32,   9,   7,  13,  19,  23,\n",
    "    27,  20,   6,  17,  13,  10,  14,   6,  16,  15,   7,   2,  15,  15,  19,\n",
    "    70,  49,   7,  53,  22,  21,  31,  19,  11,  18,  20,  12,  35,  17,  23,\n",
    "    17,   4,   2,  31,  30,  13,  27,   0,  39,  37,   5,  14,  13,  22,\n",
    "], dtype=np.float32)"
   ]
  },
  {
   "cell_type": "code",
   "execution_count": 3,
   "metadata": {},
   "outputs": [
    {
     "data": {
      "image/png": "[encoded data removed]",
      "text/plain": [
       "<Figure size 900x324 with 1 Axes>"
      ]
     },
     "metadata": {
      "needs_background": "light"
     },
     "output_type": "display_data"
    }
   ],
   "source": [
    "figsize(12.5, 4.5)\n",
    "n_count_data = len(count_data)\n",
    "plt.bar(np.arange(n_count_data), count_data, color=\"#5DA5DA\")\n",
    "plt.xlabel(\"Time (days)\")\n",
    "plt.ylabel(\"count of text-msgs received\")\n",
    "plt.title(\"Did the user's texting habits change over time?\")\n",
    "plt.xlim(0, n_count_data);"
   ]
  },
  {
   "cell_type": "code",
   "execution_count": 5,
   "metadata": {},
   "outputs": [],
   "source": [
    "\n",
    "def joint_log_prob(count_data, lambda_1, lambda_2, tau):\n",
    "    tfd = tfp.distributions\n",
    "  \n",
    "    alpha = np.array(1. / count_data.mean(), np.float32)\n",
    "    rv_lambda_1 = tfd.Exponential(rate=alpha)\n",
    "    rv_lambda_2 = tfd.Exponential(rate=alpha)\n",
    "  \n",
    "    rv_tau = tfd.Uniform()\n",
    "  \n",
    "    lambda_ = tf.gather(\n",
    "        [lambda_1, lambda_2],\n",
    "        indices=tf.to_int32(tau * count_data.size <= np.arange(count_data.size)))\n",
    "    rv_observation = tfd.Poisson(rate=lambda_)\n",
    "  \n",
    "    return (\n",
    "        rv_lambda_1.log_prob(lambda_1)\n",
    "        + rv_lambda_2.log_prob(lambda_2)\n",
    "        + rv_tau.log_prob(tau)\n",
    "        + tf.reduce_sum(rv_observation.log_prob(count_data))\n",
    "    )"
   ]
  },
  {
   "cell_type": "code",
   "execution_count": 6,
   "metadata": {},
   "outputs": [],
   "source": [
    "# Set the chain's start state.\n",
    "initial_chain_state = [\n",
    "    count_data.mean() * tf.ones([], dtype=np.float32, name=\"init_lambda1\"),\n",
    "    count_data.mean() * tf.ones([], dtype=np.float32, name=\"init_lambda2\"),\n",
    "    0.5 * tf.ones([], dtype=np.float32, name=\"init_tau\"),\n",
    "]\n",
    "\n",
    "\n",
    "# Since HMC operates over unconstrained space, we need to transform the\n",
    "# samples so they live in real-space.\n",
    "unconstraining_bijectors = [\n",
    "    tfp.bijectors.Exp(),       # Maps a positive real to R.\n",
    "    tfp.bijectors.Exp(),       # Maps a positive real to R.\n",
    "    tfp.bijectors.Sigmoid(),   # Maps [0,1] to R.  \n",
    "]\n",
    "\n",
    "\n",
    "# Define a closure over our joint_log_prob.\n",
    "def unnormalized_log_posterior(lambda1, lambda2, tau):\n",
    "    return joint_log_prob(count_data, lambda1, lambda2, tau)\n",
    "\n",
    "\n",
    "# Initialize the step_size. (It will be automatically adapted.)\n",
    "step_size = tf.get_variable(\n",
    "    name='step_size',\n",
    "    initializer=np.array(0.05, dtype=np.float32),\n",
    "    trainable=False)\n",
    "\n",
    "\n",
    "# Sample from the chain.\n",
    "[\n",
    "    posterior_lambda_1,\n",
    "    posterior_lambda_2,\n",
    "    posterior_tau,\n",
    "], kernel_results = tfp.mcmc.sample_chain(\n",
    "    num_results=int(10e3),\n",
    "    num_burnin_steps=int(1e3),\n",
    "    current_state=initial_chain_state,\n",
    "    kernel=tfp.mcmc.TransformedTransitionKernel(\n",
    "        inner_kernel=tfp.mcmc.HamiltonianMonteCarlo(\n",
    "            target_log_prob_fn=unnormalized_log_posterior,\n",
    "            num_leapfrog_steps=2,\n",
    "            step_size=step_size,\n",
    "            step_size_update_fn=tfp.mcmc.make_simple_step_size_update_policy(),\n",
    "            state_gradients_are_stopped=True),\n",
    "        bijector=unconstraining_bijectors))\n",
    "\n",
    "\n",
    "# Initialize any created variables.\n",
    "init_op = tf.global_variables_initializer()"
   ]
  },
  {
   "cell_type": "code",
   "execution_count": 7,
   "metadata": {},
   "outputs": [
    {
     "name": "stdout",
     "output_type": "stream",
     "text": [
      "acceptance rate: 0.5841\n",
      "final step size: 0.03163638710975647\n"
     ]
    }
   ],
   "source": [
    "with tf.Session() as sess:\n",
    "    init_op.run()\n",
    "    [\n",
    "        posterior_lambda_1_,\n",
    "        posterior_lambda_2_,\n",
    "        posterior_tau_,\n",
    "        kernel_results_,\n",
    "    ] = sess.run([\n",
    "        posterior_lambda_1,\n",
    "        posterior_lambda_2,\n",
    "        posterior_tau,\n",
    "        kernel_results,\n",
    "    ])\n",
    "\n",
    "    \n",
    "print(\"acceptance rate: {}\".format(\n",
    "    kernel_results_.inner_results.is_accepted.mean()))\n",
    "print(\"final step size: {}\".format(\n",
    "    kernel_results_.inner_results.extra.step_size_assign[-100:].mean()))"
   ]
  },
  {
   "cell_type": "code",
   "execution_count": 8,
   "metadata": {},
   "outputs": [],
   "source": [
    "# Convert our samples to what the book's code expects.\n",
    "lambda_1_samples = posterior_lambda_1_\n",
    "lambda_2_samples = posterior_lambda_2_\n",
    "tau_samples = np.array(np.floor(posterior_tau_ * count_data.size),\n",
    "                       dtype=np.int32)"
   ]
  },
  {
   "cell_type": "code",
   "execution_count": 9,
   "metadata": {},
   "outputs": [
    {
     "name": "stderr",
     "output_type": "stream",
     "text": [
      "<>:8: DeprecationWarning: invalid escape sequence \\l\n",
      "<>:13: DeprecationWarning: invalid escape sequence \\l\n",
      "<>:18: DeprecationWarning: invalid escape sequence \\l\n",
      "<>:21: DeprecationWarning: invalid escape sequence \\l\n",
      "<>:8: DeprecationWarning: invalid escape sequence \\l\n",
      "<>:13: DeprecationWarning: invalid escape sequence \\l\n",
      "<>:18: DeprecationWarning: invalid escape sequence \\l\n",
      "<>:21: DeprecationWarning: invalid escape sequence \\l\n",
      "<>:8: DeprecationWarning: invalid escape sequence \\l\n",
      "<>:13: DeprecationWarning: invalid escape sequence \\l\n",
      "<>:18: DeprecationWarning: invalid escape sequence \\l\n",
      "<>:21: DeprecationWarning: invalid escape sequence \\l\n",
      "<ipython-input-9-8e5b8c205a57>:8: DeprecationWarning: invalid escape sequence \\l\n",
      "  label=\"posterior of $\\lambda_1$\", color=\"#A60628\", normed=True)\n",
      "<ipython-input-9-8e5b8c205a57>:13: DeprecationWarning: invalid escape sequence \\l\n",
      "  plt.xlabel(\"$\\lambda_1$ value\")\n",
      "<ipython-input-9-8e5b8c205a57>:18: DeprecationWarning: invalid escape sequence \\l\n",
      "  label=\"posterior of $\\lambda_2$\", color=\"#7A68A6\", normed=True)\n",
      "<ipython-input-9-8e5b8c205a57>:21: DeprecationWarning: invalid escape sequence \\l\n",
      "  plt.xlabel(\"$\\lambda_2$ value\")\n",
      "/opt/conda/lib/python3.6/site-packages/matplotlib/axes/_axes.py:6571: UserWarning: The 'normed' kwarg is deprecated, and has been replaced by the 'density' kwarg.\n",
      "  warnings.warn(\"The 'normed' kwarg is deprecated, and has been \"\n",
      "/opt/conda/lib/python3.6/site-packages/matplotlib/axes/_axes.py:6571: UserWarning: The 'normed' kwarg is deprecated, and has been replaced by the 'density' kwarg.\n",
      "  warnings.warn(\"The 'normed' kwarg is deprecated, and has been \"\n"
     ]
    },
    {
     "data": {
      "image/png": "[encoded data removed]",
      "text/plain": [
       "<Figure size 900x1080 with 3 Axes>"
      ]
     },
     "metadata": {
      "needs_background": "light"
     },
     "output_type": "display_data"
    }
   ],
   "source": [
    "figsize(12.5, 15)\n",
    "#histogram of the samples:\n",
    "\n",
    "ax = plt.subplot(311)\n",
    "ax.set_autoscaley_on(False)\n",
    "\n",
    "plt.hist(lambda_1_samples, histtype='stepfilled', bins=30, alpha=0.85,\n",
    "         label=\"posterior of $\\lambda_1$\", color=\"#A60628\", normed=True)\n",
    "plt.legend(loc=\"upper left\")\n",
    "plt.title(r\"\"\"Posterior distributions of the variables\n",
    "    $\\lambda_1,\\;\\lambda_2,\\;\\tau$\"\"\")\n",
    "plt.xlim([15, 30])\n",
    "plt.xlabel(\"$\\lambda_1$ value\")\n",
    "\n",
    "ax = plt.subplot(312)\n",
    "ax.set_autoscaley_on(False)\n",
    "plt.hist(lambda_2_samples, histtype='stepfilled', bins=30, alpha=0.85,\n",
    "         label=\"posterior of $\\lambda_2$\", color=\"#7A68A6\", normed=True)\n",
    "plt.legend(loc=\"upper left\")\n",
    "plt.xlim([15, 30])\n",
    "plt.xlabel(\"$\\lambda_2$ value\")\n",
    "\n",
    "plt.subplot(313)\n",
    "w = 1.0 / tau_samples.shape[0] * np.ones_like(tau_samples)\n",
    "plt.hist(tau_samples, bins=n_count_data, alpha=1,\n",
    "         label=r\"posterior of $\\tau$\",\n",
    "         color=\"#60BD68\", weights=w, rwidth=2.)\n",
    "plt.xticks(np.arange(n_count_data))\n",
    "\n",
    "plt.legend(loc=\"upper left\")\n",
    "plt.ylim([0, .75])\n",
    "plt.xlim([35, len(count_data)-20])\n",
    "plt.xlabel(r\"$\\tau$ (in days)\")\n",
    "plt.ylabel(\"probability\");"
   ]
  },
  {
   "cell_type": "code",
   "execution_count": null,
   "metadata": {},
   "outputs": [],
   "source": []
  }
 ],
 "metadata": {
  "kernelspec": {
   "display_name": "Python 3",
   "language": "python",
   "name": "python3"
  },
  "language_info": {
   "codemirror_mode": {
    "name": "ipython",
    "version": 3
   },
   "file_extension": ".py",
   "mimetype": "text/x-python",
   "name": "python",
   "nbconvert_exporter": "python",
   "pygments_lexer": "ipython3",
   "version": "3.6.6"
  }
 },
 "nbformat": 4,
 "nbformat_minor": 2
}
