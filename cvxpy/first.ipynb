{
 "cells": [
  {
   "cell_type": "code",
   "execution_count": 1,
   "metadata": {},
   "outputs": [
    {
     "name": "stdout",
     "output_type": "stream",
     "text": [
      "status: optimal\n",
      "optimal value 1.0\n",
      "optimal var 1.0 1.570086213240983e-22\n"
     ]
    }
   ],
   "source": [
    "import cvxpy as cvx\n",
    "\n",
    "# Create two scalar optimization variables.\n",
    "x = cvx.Variable()\n",
    "y = cvx.Variable()\n",
    "\n",
    "# Create two constraints.\n",
    "constraints = [x + y == 1,\n",
    "               x - y >= 1]\n",
    "\n",
    "# Form objective.\n",
    "obj = cvx.Minimize((x - y)**2)\n",
    "\n",
    "# Form and solve problem.\n",
    "prob = cvx.Problem(obj, constraints)\n",
    "prob.solve()  # Returns the optimal value.\n",
    "print(\"status:\", prob.status)\n",
    "print(\"optimal value\", prob.value)\n",
    "print(\"optimal var\", x.value, y.value)"
   ]
  },
  {
   "cell_type": "code",
   "execution_count": null,
   "metadata": {},
   "outputs": [],
   "source": []
  }
 ],
 "metadata": {
  "kernelspec": {
   "display_name": "Python 3",
   "language": "python",
   "name": "python3"
  },
  "language_info": {
   "codemirror_mode": {
    "name": "ipython",
    "version": 3
   },
   "file_extension": ".py",
   "mimetype": "text/x-python",
   "name": "python",
   "nbconvert_exporter": "python",
   "pygments_lexer": "ipython3",
   "version": "3.6.6"
  }
 },
 "nbformat": 4,
 "nbformat_minor": 2
}
